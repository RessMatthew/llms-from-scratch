{
 "cells": [
  {
   "cell_type": "markdown",
   "metadata": {},
   "source": [
    "字节对编码BPE\n",
    "：诸如GPT-2，GPT3以及ChatGPT里使用的原始模型"
   ]
  },
  {
   "cell_type": "code",
   "execution_count": 4,
   "metadata": {},
   "outputs": [
    {
     "name": "stdout",
     "output_type": "stream",
     "text": [
      "[15496, 11, 466, 345, 588, 8887, 30, 220, 50256, 554, 262, 4252, 18250, 8812, 2114, 286, 617]\n",
      "Hello, do you like tea? <|endoftext|> In the sunlit terraces of some\n"
     ]
    }
   ],
   "source": [
    "# 直接通过openai的gpt2词汇表来编码：\n",
    "\n",
    "# 全局代理\n",
    "import os\n",
    "os.environ[\"http_proxy\"] = \"http://127.0.0.1:7890\"\n",
    "os.environ[\"https_proxy\"] = \"http://127.0.0.1:7890\"\n",
    "\n",
    "\n",
    "import tiktoken\n",
    "# 编码\n",
    "tokenizer = tiktoken.get_encoding(\"gpt2\")\n",
    "text = \"Hello, do you like tea? <|endoftext|> In the sunlit terraces of some\"\n",
    "integers = tokenizer.encode(text, allowed_special={\"<|endoftext|>\"})\n",
    "print(integers)\n",
    "# 解码\n",
    "strings = tokenizer.decode(integers)\n",
    "print(strings)"
   ]
  },
  {
   "cell_type": "markdown",
   "metadata": {},
   "source": [
    "**练习2.1 未知单词的字节对编码**  \n",
    "尝试使用tiktoken库里的BPE分词器，对未知词汇\"Akwirw ier\"进行处理然后打印出一列词元编码（token IDs）。\n",
    "\n",
    "然后，针对这一列的每一个编码调用解码函数来重现映射关系。\n",
    "\n",
    "最后，在词元ID序列上调用解码方法来确认是否它们可以重新构成原始的输入\"Akwirw ier\"。  "
   ]
  },
  {
   "cell_type": "code",
   "execution_count": 5,
   "metadata": {},
   "outputs": [
    {
     "name": "stdout",
     "output_type": "stream",
     "text": [
      "[33901, 86, 343, 86, 220, 959]\n",
      "Akwirw ier\n"
     ]
    }
   ],
   "source": [
    "# 练习 2.1\n",
    "text = \"Akwirw ier\"\n",
    "integers = tokenizer.encode(text, allowed_special={\"<|endoftext|>\"})\n",
    "print(integers)\n",
    "strings = tokenizer.decode(integers)\n",
    "print(strings)\n"
   ]
  }
 ],
 "metadata": {
  "kernelspec": {
   "display_name": "LLMs",
   "language": "python",
   "name": "python3"
  },
  "language_info": {
   "codemirror_mode": {
    "name": "ipython",
    "version": 3
   },
   "file_extension": ".py",
   "mimetype": "text/x-python",
   "name": "python",
   "nbconvert_exporter": "python",
   "pygments_lexer": "ipython3",
   "version": "3.10.14"
  }
 },
 "nbformat": 4,
 "nbformat_minor": 2
}
