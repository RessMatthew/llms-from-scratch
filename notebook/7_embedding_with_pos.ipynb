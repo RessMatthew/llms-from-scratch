{
 "cells": [
  {
   "cell_type": "markdown",
   "metadata": {},
   "source": [
    "词嵌入大综合embedding with position"
   ]
  },
  {
   "cell_type": "code",
   "execution_count": 6,
   "metadata": {},
   "outputs": [],
   "source": [
    "# 更真实的编码情况\n",
    "\n",
    "import torch\n",
    "\n",
    "vocab_size = 50257 # 词汇表大小\n",
    "output_dim = 256 # 编码大小\n",
    "\n",
    "# 设计随机种子，确保Embedding实验结果的可重复性\n",
    "torch.manual_seed(123)\n",
    "token_embedding_layer = torch.nn.Embedding(vocab_size, output_dim)"
   ]
  },
  {
   "cell_type": "code",
   "execution_count": 7,
   "metadata": {},
   "outputs": [],
   "source": [
    "# 之前实现的data_sampling：\n",
    "\n",
    "import tiktoken\n",
    "import torch\n",
    "from torch.utils.data import Dataset, DataLoader\n",
    "\n",
    "# Pytorch的Dataset的子类\n",
    "class GPTDatasetV1(Dataset):\n",
    "    def __init__(self, txt, tokenizer, max_length, stride):\n",
    "        self.tokenizer = tokenizer\n",
    "        self.input_ids = []\n",
    "        self.target_ids = []\n",
    "        token_ids = tokenizer.encode(txt)\n",
    "        for i in range(0, len(token_ids) - max_length, stride):\n",
    "            input_chunk = token_ids[i:i + max_length]\n",
    "            target_chunk = token_ids[i + 1: i + max_length + 1]\n",
    "            # 将原始数据转换为 PyTorch 张量，享受到 PyTorch 提供的各种优化和功能\n",
    "            self.input_ids.append(torch.tensor(input_chunk))\n",
    "            self.target_ids.append(torch.tensor(target_chunk))\n",
    "            \n",
    "    def __len__(self):\n",
    "        return len(self.input_ids)\n",
    "    \n",
    "    def __getitem__(self, idx):\n",
    "        return self.input_ids[idx], self.target_ids[idx]\n",
    "\n",
    "def create_dataloader_v1(txt, bath_size = 4,\n",
    "        max_length = 256, stride = 128, shuffle=True, drop_last=True):\n",
    "    tokenizer = tiktoken.get_encoding(\"gpt2\")\n",
    "    dataset = GPTDatasetV1(txt, tokenizer, max_length, stride)\n",
    "    dataloader = DataLoader(\n",
    "        dataset, batch_size=bath_size, shuffle=shuffle, drop_last=drop_last)\n",
    "    return dataloader"
   ]
  },
  {
   "cell_type": "code",
   "execution_count": 8,
   "metadata": {},
   "outputs": [],
   "source": [
    "tokenizer = tiktoken.get_encoding(\"gpt2\")\n",
    "file_path = '../input/the-verdict.txt'\n",
    "with open(file_path, 'r', encoding='utf-8') as file:\n",
    "    raw_text = file.read()"
   ]
  },
  {
   "cell_type": "code",
   "execution_count": 9,
   "metadata": {},
   "outputs": [
    {
     "name": "stdout",
     "output_type": "stream",
     "text": [
      "inputs:\n",
      " tensor([[31640,    12,    67, 20811],\n",
      "        [   11,   262,  7888,  7586],\n",
      "        [  616, 20348,   287,  5963],\n",
      "        [  257, 29844,   286, 12749],\n",
      "        [   11,  2087,   329,   616],\n",
      "        [26394,    12,   301,   971],\n",
      "        [22474,    62,  4964,   502],\n",
      "        [ 1517,   339,   550,  1760]])\n",
      "inputs shape:\n",
      " torch.Size([8, 4])\n",
      "targets:\n",
      " tensor([[   12,    67, 20811,     1],\n",
      "        [  262,  7888,  7586,  9813],\n",
      "        [20348,   287,  5963,    11],\n",
      "        [29844,   286, 12749,    11],\n",
      "        [ 2087,   329,   616, 35957],\n",
      "        [   12,   301,   971,    13],\n",
      "        [   62,  4964,   502,    11],\n",
      "        [  339,   550,  1760,   438]])\n"
     ]
    }
   ],
   "source": [
    "dataloader = create_dataloader_v1(raw_text, bath_size=8,\n",
    "        max_length=4, stride=4)\n",
    "data_iter = iter(dataloader)\n",
    "inputs, targets = next(data_iter)\n",
    "print(\"inputs:\\n\", inputs)\n",
    "print(\"inputs shape:\\n\", inputs.shape)\n",
    "print(\"targets:\\n\", targets)"
   ]
  },
  {
   "cell_type": "markdown",
   "metadata": {},
   "source": [
    "使用token_token_embedding_layer将这些token id嵌入为256维的向量"
   ]
  },
  {
   "cell_type": "code",
   "execution_count": 10,
   "metadata": {},
   "outputs": [
    {
     "name": "stdout",
     "output_type": "stream",
     "text": [
      "torch.Size([8, 4, 256])\n"
     ]
    }
   ],
   "source": [
    "token_embeddings = token_embedding_layer(inputs)\n",
    "print(token_embeddings.shape)"
   ]
  },
  {
   "cell_type": "markdown",
   "metadata": {},
   "source": [
    "位置编码\n",
    "\n",
    "根据8\\*4\\*256的张量维度，创建相同维度的嵌入层"
   ]
  },
  {
   "cell_type": "code",
   "execution_count": 12,
   "metadata": {},
   "outputs": [
    {
     "name": "stdout",
     "output_type": "stream",
     "text": [
      "tensor([[ 1.8302, -0.9019, -0.7203,  ...,  0.1260,  0.2663, -2.1815],\n",
      "        [ 1.3574, -1.8919,  0.2680,  ..., -1.0383, -0.5890,  1.1063],\n",
      "        [-0.2980, -0.1013,  2.1897,  ..., -1.3644,  0.7289, -0.5926],\n",
      "        [ 0.9600, -1.0767,  0.3717,  ..., -0.0075,  0.7468, -0.7247]],\n",
      "       grad_fn=<EmbeddingBackward0>)\n",
      "torch.Size([4, 256])\n"
     ]
    }
   ],
   "source": [
    "context_length = 4\n",
    "pos_embedding_layer = torch.nn.Embedding(context_length, output_dim)\n",
    "\n",
    "# torch.arange(4) = [0, 1, 2, 3]\n",
    "pos_embeddings = pos_embedding_layer(torch.arange(context_length))\n",
    "print(pos_embeddings)\n",
    "print(pos_embeddings.shape)"
   ]
  },
  {
   "cell_type": "code",
   "execution_count": 15,
   "metadata": {},
   "outputs": [
    {
     "name": "stdout",
     "output_type": "stream",
     "text": [
      "torch.Size([8, 4, 256])\n",
      "torch.Size([4, 256])\n",
      "torch.Size([8, 4, 256])\n"
     ]
    }
   ],
   "source": [
    "# 位置编码嵌入：\n",
    "input_embeddings = token_embeddings + pos_embeddings\n",
    "print(token_embeddings.shape)\n",
    "print(pos_embeddings.shape)\n",
    "print(input_embeddings.shape)"
   ]
  }
 ],
 "metadata": {
  "kernelspec": {
   "display_name": "LLMs",
   "language": "python",
   "name": "python3"
  },
  "language_info": {
   "codemirror_mode": {
    "name": "ipython",
    "version": 3
   },
   "file_extension": ".py",
   "mimetype": "text/x-python",
   "name": "python",
   "nbconvert_exporter": "python",
   "pygments_lexer": "ipython3",
   "version": "3.10.14"
  }
 },
 "nbformat": 4,
 "nbformat_minor": 2
}
