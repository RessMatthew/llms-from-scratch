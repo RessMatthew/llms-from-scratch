{
 "cells": [
  {
   "cell_type": "markdown",
   "metadata": {},
   "source": [
    "# Positonal embeddings：词位置编码"
   ]
  },
  {
   "cell_type": "markdown",
   "metadata": {},
   "source": [
    "词嵌入大综合 embedding with position"
   ]
  },
  {
   "cell_type": "markdown",
   "metadata": {},
   "source": [
    "## 前置 - 读取输入"
   ]
  },
  {
   "cell_type": "code",
   "execution_count": 2,
   "metadata": {},
   "outputs": [],
   "source": [
    "import tiktoken\n",
    "\n",
    "tokenizer = tiktoken.get_encoding(\"gpt2\")\n",
    "file_path = '../../input/the-verdict.txt'\n",
    "with open(file_path, 'r', encoding='utf-8') as file:\n",
    "    raw_text = file.read()"
   ]
  },
  {
   "cell_type": "markdown",
   "metadata": {},
   "source": [
    "## 数据采样：Token IDs 转 Token embeddings"
   ]
  },
  {
   "cell_type": "markdown",
   "metadata": {},
   "source": [
    "* 使用 tiktoken 直接将 raw_text 编码为 token_id\n",
    "* 使用词嵌入 将 token_id 转换为 token_embeddings"
   ]
  },
  {
   "cell_type": "markdown",
   "metadata": {},
   "source": [
    "### 代码 - 已实现的数据采样\n",
    "\n",
    "使用 tiktoken 将 Input 转换为 Token IDs"
   ]
  },
  {
   "cell_type": "code",
   "execution_count": 3,
   "metadata": {},
   "outputs": [],
   "source": [
    "# 之前实现的 data_sampling：\n",
    "\n",
    "import tiktoken\n",
    "import torch\n",
    "from torch.utils.data import Dataset, DataLoader\n",
    "\n",
    "# Pytorch的Dataset的子类\n",
    "class GPTDatasetV1(Dataset):\n",
    "    def __init__(self, txt, tokenizer, max_length, stride):\n",
    "        self.tokenizer = tokenizer\n",
    "        self.input_ids = []\n",
    "        self.target_ids = []\n",
    "        token_ids = tokenizer.encode(txt)\n",
    "        for i in range(0, len(token_ids) - max_length, stride):\n",
    "            input_chunk = token_ids[i:i + max_length]\n",
    "            target_chunk = token_ids[i + 1: i + max_length + 1]\n",
    "            # 将原始数据转换为 PyTorch 张量，享受到 PyTorch 提供的各种优化和功能\n",
    "            self.input_ids.append(torch.tensor(input_chunk))\n",
    "            self.target_ids.append(torch.tensor(target_chunk))\n",
    "            \n",
    "    def __len__(self):\n",
    "        return len(self.input_ids)\n",
    "    \n",
    "    def __getitem__(self, idx):\n",
    "        return self.input_ids[idx], self.target_ids[idx]\n",
    "\n",
    "def create_dataloader_v1(txt, bath_size = 4,\n",
    "        max_length = 256, stride = 128, shuffle=True, drop_last=True):\n",
    "    tokenizer = tiktoken.get_encoding(\"gpt2\")\n",
    "    dataset = GPTDatasetV1(txt, tokenizer, max_length, stride)\n",
    "    dataloader = DataLoader(\n",
    "        dataset, batch_size=bath_size, shuffle=shuffle, drop_last=drop_last)\n",
    "    return dataloader"
   ]
  },
  {
   "cell_type": "markdown",
   "metadata": {},
   "source": [
    "### 执行数据采样"
   ]
  },
  {
   "cell_type": "code",
   "execution_count": 4,
   "metadata": {},
   "outputs": [
    {
     "name": "stdout",
     "output_type": "stream",
     "text": [
      "inputs:\n",
      " tensor([[  673,  1908,   329,   345],\n",
      "        [ 5779,    11,   314,  1816],\n",
      "        [40559, 11959,  1636,    11],\n",
      "        [  262,  5739,  1444,   510],\n",
      "        [   13,   764,   764,   764],\n",
      "        [  290,  8104,   465,  1021],\n",
      "        [  465, 13476,    11,   339],\n",
      "        [  760,   526,   198,   198]])\n",
      "inputs shape:\n",
      " torch.Size([8, 4])\n",
      "targets:\n",
      " tensor([[ 1908,   329,   345,  1701],\n",
      "        [   11,   314,  1816,   572],\n",
      "        [11959,  1636,    11,   508],\n",
      "        [ 5739,  1444,   510,   477],\n",
      "        [  764,   764,   764,  3894],\n",
      "        [ 8104,   465,  1021,   319],\n",
      "        [13476,    11,   339,   550],\n",
      "        [  526,   198,   198,  3347]])\n"
     ]
    }
   ],
   "source": [
    "dataloader = create_dataloader_v1(raw_text, bath_size=8,\n",
    "        max_length=4, stride=4)\n",
    "data_iter = iter(dataloader)\n",
    "inputs, targets = next(data_iter)\n",
    "print(\"inputs:\\n\", inputs)\n",
    "print(\"inputs shape:\\n\", inputs.shape)\n",
    "print(\"targets:\\n\", targets)"
   ]
  },
  {
   "cell_type": "markdown",
   "metadata": {},
   "source": [
    "### 词嵌入：特征可计算"
   ]
  },
  {
   "cell_type": "markdown",
   "metadata": {},
   "source": [
    "使用token_token_embedding_layer将这些token id嵌入为256维的向量"
   ]
  },
  {
   "cell_type": "code",
   "execution_count": 5,
   "metadata": {},
   "outputs": [],
   "source": [
    "# 更真实的编码情况\n",
    "\n",
    "import torch\n",
    "\n",
    "vocab_size = 50257 # 词汇表大小\n",
    "output_dim = 256 # 编码大小\n",
    "\n",
    "# 设计随机种子，确保Embedding实验结果的可重复性\n",
    "torch.manual_seed(123)\n",
    "token_embedding_layer = torch.nn.Embedding(vocab_size, output_dim)"
   ]
  },
  {
   "cell_type": "code",
   "execution_count": 6,
   "metadata": {},
   "outputs": [
    {
     "name": "stdout",
     "output_type": "stream",
     "text": [
      "torch.Size([8, 4, 256])\n"
     ]
    }
   ],
   "source": [
    "token_embeddings = token_embedding_layer(inputs)\n",
    "print(token_embeddings.shape)"
   ]
  },
  {
   "cell_type": "markdown",
   "metadata": {},
   "source": [
    "## 词位置编码：Positonal embeddings\n",
    "\n",
    "根据8\\*4\\*256的张量维度，创建相同维度的嵌入层"
   ]
  },
  {
   "cell_type": "code",
   "execution_count": 7,
   "metadata": {},
   "outputs": [
    {
     "name": "stdout",
     "output_type": "stream",
     "text": [
      "tensor([[ 0.5423, -0.1224, -1.4150,  ...,  0.2515, -2.3067,  0.8155],\n",
      "        [-0.3973, -1.2575, -1.9800,  ..., -0.1207,  0.3075, -0.6422],\n",
      "        [ 0.1840,  1.1128,  1.0052,  ...,  0.2081,  0.5531, -1.1619],\n",
      "        [ 1.4155,  0.6599,  0.3760,  ...,  0.7034, -0.6108,  0.1080]],\n",
      "       grad_fn=<EmbeddingBackward0>)\n",
      "torch.Size([4, 256])\n"
     ]
    }
   ],
   "source": [
    "context_length = 4\n",
    "pos_embedding_layer = torch.nn.Embedding(context_length, output_dim)\n",
    "\n",
    "# torch.arange(4) = [0, 1, 2, 3]\n",
    "pos_embeddings = pos_embedding_layer(torch.arange(context_length))\n",
    "print(pos_embeddings)\n",
    "print(pos_embeddings.shape)"
   ]
  },
  {
   "cell_type": "code",
   "execution_count": 8,
   "metadata": {},
   "outputs": [
    {
     "name": "stdout",
     "output_type": "stream",
     "text": [
      "torch.Size([8, 4, 256])\n",
      "torch.Size([4, 256])\n",
      "torch.Size([8, 4, 256])\n"
     ]
    }
   ],
   "source": [
    "# 位置编码嵌入：\n",
    "input_embeddings = token_embeddings + pos_embeddings\n",
    "print(token_embeddings.shape)\n",
    "print(pos_embeddings.shape)\n",
    "print(input_embeddings.shape)"
   ]
  }
 ],
 "metadata": {
  "kernelspec": {
   "display_name": "LLMs",
   "language": "python",
   "name": "python3"
  },
  "language_info": {
   "codemirror_mode": {
    "name": "ipython",
    "version": 3
   },
   "file_extension": ".py",
   "mimetype": "text/x-python",
   "name": "python",
   "nbconvert_exporter": "python",
   "pygments_lexer": "ipython3",
   "version": "3.10.14"
  }
 },
 "nbformat": 4,
 "nbformat_minor": 2
}
